{
 "cells": [
  {
   "cell_type": "markdown",
   "id": "9c17ac82",
   "metadata": {},
   "source": [
    "# <center>Bangla Handwritten Math Solver (GUI)<center> "
   ]
  },
  {
   "cell_type": "code",
   "execution_count": 1,
   "id": "345f1625",
   "metadata": {},
   "outputs": [],
   "source": [
    "from tkinter import *\n",
    "from tkinter.ttk import *\n",
    "from PIL import ImageGrab"
   ]
  },
  {
   "cell_type": "code",
   "execution_count": 2,
   "id": "2bade9bd",
   "metadata": {},
   "outputs": [],
   "source": [
    "def init(self):\n",
    "    self.res = \"\"\n",
    "    self.pre = [None, None]\n",
    "    self.bs = 5.5\n",
    "\n",
    "    self.root = Tk()\n",
    "    self.root.title(\"Bangla Handwriting Math Solver\")\n",
    "    self.root.resizable(False, False)\n",
    "    # self.root.overrideredirect(True) # turns off title bar\n",
    "\n",
    "    # self.root size we want to create\n",
    "    self.root_height = 600\n",
    "    self.root_width = 1024\n",
    "\n",
    "    # getting the full screen height and width\n",
    "    screen_width = self.root.winfo_screenwidth()\n",
    "    screen_height = self.root.winfo_screenheight()\n",
    "\n",
    "    # calculating the geometry padding\n",
    "    self.x_cordinate = int((screen_width/2) - (self.root_width/2))\n",
    "    self.y_cordinate = int((screen_height/2) - (self.root_height/2))\n",
    "\n",
    "    self.root.geometry(\"{}x{}+{}+{}\".format(self.root_width, self.root_height, self.x_cordinate, self.y_cordinate))\n",
    "    self.c = Canvas(self.root, bd=3, relief=\"ridge\", bg='white', height=self.root_height - 150, width=self.root_width - 52)\n",
    "    self.c.grid(row=0, column=0, columnspan=3, padx=20, pady=10)\n",
    "\n",
    "    # Create label\n",
    "    label = Label(self.root, text = \"Draw your mathematical term here...👆👆\", )\n",
    "    label.config(font =(\"Courier\", 14))\n",
    "    label.grid(row=1, column=0, columnspan=3)\n",
    "\n",
    "    # Create label blank for spacing\n",
    "    space = Label(self.root, text = \"\", )\n",
    "    space.config(font =(\"Courier\", 14))\n",
    "    space.grid(row=2, column=0, columnspan=3)\n",
    "\n",
    "    style = Style()\n",
    "\n",
    "    ''' Button 1: Exit'''\n",
    "    style.configure('E.TButton', font = ('calibri', 15, 'bold', 'underline'), foreground = 'red')\n",
    "    exit_btn = Button(self.root, text = 'Quit !', style = 'E.TButton', command = self.close)\n",
    "    exit_btn.grid(row = 3, column = 0)\n",
    "\n",
    "    ''' Button 2: Clear'''\n",
    "    style.configure('C.TButton', font = ('calibri', 15, 'bold', 'underline'), foreground = 'blue')\n",
    "    calculate_btn = Button(self.root, text = 'Clear', style = 'C.TButton', command = self.clear)\n",
    "    calculate_btn.grid(row = 3, column = 1)\n",
    "\n",
    "    ''' Button 3: Solve'''\n",
    "    style.configure('S.TButton', font = ('calibri', 15, 'bold', 'underline'), foreground = 'green')\n",
    "    exit_btn = Button(self.root, text = 'Solve', style = 'S.TButton', command = self.solve)\n",
    "    exit_btn.grid(row = 3, column = 2)\n",
    "\n",
    "    self.c.bind(\"<Button-1>\", self.putPoint)\n",
    "    # self.c.bind(\"<ButtonRelease-1>\", self.getResult)\n",
    "    self.c.bind(\"<B1-Motion>\", self.paint)\n",
    "\n",
    "    self.root.mainloop()"
   ]
  },
  {
   "cell_type": "code",
   "execution_count": 3,
   "id": "6835b932",
   "metadata": {},
   "outputs": [],
   "source": [
    "# Function for closing window\n",
    "def close(self):\n",
    "    self.root.destroy()"
   ]
  },
  {
   "cell_type": "code",
   "execution_count": 4,
   "id": "ee76f87f",
   "metadata": {},
   "outputs": [],
   "source": [
    "# Function for clearing the canvas\n",
    "def clear(self):\n",
    "    self.c.delete(\"all\")"
   ]
  },
  {
   "cell_type": "code",
   "execution_count": 5,
   "id": "cd310d18",
   "metadata": {},
   "outputs": [],
   "source": [
    "# Function for putting a point on the canvas\n",
    "def putPoint(self, e):\n",
    "    self.c.create_oval(e.x - self.bs, e.y - self.bs, e.x + self.bs, e.y + self.bs, outline='black', fill='black')\n",
    "    self.pre = [e.x, e.y]"
   ]
  },
  {
   "cell_type": "code",
   "execution_count": 6,
   "id": "353b425d",
   "metadata": {},
   "outputs": [],
   "source": [
    "# Function for drawing on the canvas\n",
    "def paint(self, e):\n",
    "    self.c.create_line(self.pre[0], self.pre[1], e.x, e.y, width=self.bs * 2, fill='black', capstyle=ROUND, smooth=TRUE)\n",
    "    self.pre = [e.x, e.y]"
   ]
  },
  {
   "cell_type": "code",
   "execution_count": 7,
   "id": "1733ee88",
   "metadata": {},
   "outputs": [],
   "source": [
    "def solve(self):\n",
    "    print('Starting the work...')\n",
    "    success = self.get_image()\n",
    "    if success:\n",
    "        self.get_solve()"
   ]
  },
  {
   "cell_type": "code",
   "execution_count": 8,
   "id": "0b834b2c",
   "metadata": {},
   "outputs": [],
   "source": [
    "# Function for getting the image from the canvas\n",
    "def get_image(self):\n",
    "    print('Processing image from the canvas...')\n",
    "    #\n",
    "    x, y = (self.c.winfo_rootx(), self.c.winfo_rooty())\n",
    "    width, height = (self.c.winfo_width(), self.c.winfo_height())\n",
    "    a, b, c, d = (x, y, x+width, y+height)\n",
    "    #\n",
    "    img = ImageGrab.grab()\n",
    "    img.save(\"full-screen.png\")\n",
    "    img = img.crop((a + 76, b + 48, c + 313, d + 154))\n",
    "    img.save(\"drawn-image.png\")\n",
    "    print('Image saved!')\n",
    "    return True"
   ]
  },
  {
   "cell_type": "code",
   "execution_count": 9,
   "id": "b0baaee0",
   "metadata": {},
   "outputs": [],
   "source": [
    "# Function for solving the prediction\n",
    "def get_solve(self):\n",
    "    print('Solving the equation...')\n",
    "    pass"
   ]
  },
  {
   "cell_type": "code",
   "execution_count": 10,
   "id": "c11c72be",
   "metadata": {},
   "outputs": [
    {
     "ename": "TypeError",
     "evalue": "init() missing 1 required positional argument: 'self'",
     "output_type": "error",
     "traceback": [
      "\u001b[1;31m---------------------------------------------------------------------------\u001b[0m",
      "\u001b[1;31mTypeError\u001b[0m                                 Traceback (most recent call last)",
      "Cell \u001b[1;32mIn [10], line 2\u001b[0m\n\u001b[0;32m      1\u001b[0m \u001b[38;5;66;03m#Executing function\u001b[39;00m\n\u001b[1;32m----> 2\u001b[0m \u001b[43minit\u001b[49m\u001b[43m(\u001b[49m\u001b[43m)\u001b[49m\n",
      "\u001b[1;31mTypeError\u001b[0m: init() missing 1 required positional argument: 'self'"
     ]
    }
   ],
   "source": [
    "#Executing function\n",
    "init(self)"
   ]
  }
 ],
 "metadata": {
  "kernelspec": {
   "display_name": "Python 3 (ipykernel)",
   "language": "python",
   "name": "python3"
  },
  "language_info": {
   "codemirror_mode": {
    "name": "ipython",
    "version": 3
   },
   "file_extension": ".py",
   "mimetype": "text/x-python",
   "name": "python",
   "nbconvert_exporter": "python",
   "pygments_lexer": "ipython3",
   "version": "3.8.5"
  }
 },
 "nbformat": 4,
 "nbformat_minor": 5
}
