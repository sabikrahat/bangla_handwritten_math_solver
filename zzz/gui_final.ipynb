{
 "cells": [
  {
   "cell_type": "markdown",
   "id": "c0303c34",
   "metadata": {},
   "source": [
    "# <center>Bangla Handwritten Math Solver (GUI)<center> "
   ]
  },
  {
   "cell_type": "code",
   "execution_count": 1,
   "id": "6d607711",
   "metadata": {},
   "outputs": [],
   "source": [
    "from tkinter import *\n",
    "from tkinter.ttk import *\n",
    "from PIL import ImageGrab"
   ]
  },
  {
   "cell_type": "code",
   "execution_count": 2,
   "id": "36968e76",
   "metadata": {},
   "outputs": [
    {
     "ename": "NameError",
     "evalue": "name 'close' is not defined",
     "output_type": "error",
     "traceback": [
      "\u001b[1;31m---------------------------------------------------------------------------\u001b[0m",
      "\u001b[1;31mNameError\u001b[0m                                 Traceback (most recent call last)",
      "Cell \u001b[1;32mIn [2], line 40\u001b[0m\n\u001b[0;32m     38\u001b[0m \u001b[38;5;124;03m''' Button 1: Exit'''\u001b[39;00m\n\u001b[0;32m     39\u001b[0m style\u001b[38;5;241m.\u001b[39mconfigure(\u001b[38;5;124m'\u001b[39m\u001b[38;5;124mE.TButton\u001b[39m\u001b[38;5;124m'\u001b[39m, font \u001b[38;5;241m=\u001b[39m (\u001b[38;5;124m'\u001b[39m\u001b[38;5;124mcalibri\u001b[39m\u001b[38;5;124m'\u001b[39m, \u001b[38;5;241m15\u001b[39m, \u001b[38;5;124m'\u001b[39m\u001b[38;5;124mbold\u001b[39m\u001b[38;5;124m'\u001b[39m, \u001b[38;5;124m'\u001b[39m\u001b[38;5;124munderline\u001b[39m\u001b[38;5;124m'\u001b[39m), foreground \u001b[38;5;241m=\u001b[39m \u001b[38;5;124m'\u001b[39m\u001b[38;5;124mred\u001b[39m\u001b[38;5;124m'\u001b[39m)\n\u001b[1;32m---> 40\u001b[0m exit_btn \u001b[38;5;241m=\u001b[39m Button(root, text \u001b[38;5;241m=\u001b[39m \u001b[38;5;124m'\u001b[39m\u001b[38;5;124mQuit !\u001b[39m\u001b[38;5;124m'\u001b[39m, style \u001b[38;5;241m=\u001b[39m \u001b[38;5;124m'\u001b[39m\u001b[38;5;124mE.TButton\u001b[39m\u001b[38;5;124m'\u001b[39m, command \u001b[38;5;241m=\u001b[39m \u001b[43mclose\u001b[49m)\n\u001b[0;32m     41\u001b[0m exit_btn\u001b[38;5;241m.\u001b[39mgrid(row \u001b[38;5;241m=\u001b[39m \u001b[38;5;241m3\u001b[39m, column \u001b[38;5;241m=\u001b[39m \u001b[38;5;241m0\u001b[39m)\n\u001b[0;32m     43\u001b[0m \u001b[38;5;124;03m''' Button 2: Clear'''\u001b[39;00m\n",
      "\u001b[1;31mNameError\u001b[0m: name 'close' is not defined"
     ]
    }
   ],
   "source": [
    "res = \"\"\n",
    "pre = [None, None]\n",
    "bs = 5.5\n",
    "\n",
    "root = Tk()\n",
    "root.title(\"Bangla Handwriting Math Solver\")\n",
    "root.resizable(False, False)\n",
    "# root.overrideredirect(True) # turns off title bar\n",
    "\n",
    "# root size we want to create\n",
    "root_height = 600\n",
    "root_width = 1024\n",
    "\n",
    "# getting the full screen height and width\n",
    "screen_width = root.winfo_screenwidth()\n",
    "screen_height = root.winfo_screenheight()\n",
    "\n",
    "# calculating the geometry padding\n",
    "x_cordinate = int((screen_width/2) - (root_width/2))\n",
    "y_cordinate = int((screen_height/2) - (root_height/2))\n",
    "\n",
    "root.geometry(\"{}x{}+{}+{}\".format(root_width, root_height, x_cordinate, y_cordinate))\n",
    "c = Canvas(root, bd=3, relief=\"ridge\", bg='white', height=root_height - 150, width=root_width - 52)\n",
    "c.grid(row=0, column=0, columnspan=3, padx=20, pady=10)\n",
    "\n",
    "# Create label\n",
    "label = Label(root, text = \"Draw your mathematical term here...👆👆\", )\n",
    "label.config(font =(\"Courier\", 14))\n",
    "label.grid(row=1, column=0, columnspan=3)\n",
    "\n",
    "# Create label blank for spacing\n",
    "space = Label(root, text = \"\", )\n",
    "space.config(font =(\"Courier\", 14))\n",
    "space.grid(row=2, column=0, columnspan=3)\n",
    "\n",
    "style = Style()\n",
    "\n",
    "''' Button 1: Exit'''\n",
    "style.configure('E.TButton', font = ('calibri', 15, 'bold', 'underline'), foreground = 'red')\n",
    "exit_btn = Button(root, text = 'Quit !', style = 'E.TButton', command = close)\n",
    "exit_btn.grid(row = 3, column = 0)\n",
    "\n",
    "''' Button 2: Clear'''\n",
    "style.configure('C.TButton', font = ('calibri', 15, 'bold', 'underline'), foreground = 'blue')\n",
    "calculate_btn = Button(root, text = 'Clear', style = 'C.TButton', command = clear)\n",
    "calculate_btn.grid(row = 3, column = 1)\n",
    "\n",
    "''' Button 3: Solve'''\n",
    "style.configure('S.TButton', font = ('calibri', 15, 'bold', 'underline'), foreground = 'green')\n",
    "exit_btn = Button(root, text = 'Solve', style = 'S.TButton', command = solve)\n",
    "exit_btn.grid(row = 3, column = 2)\n",
    "\n",
    "c.bind(\"<Button-1>\", putPoint)\n",
    "# c.bind(\"<ButtonRelease-1>\", getResult)\n",
    "c.bind(\"<B1-Motion>\", paint)\n",
    "\n",
    "root.mainloop()"
   ]
  },
  {
   "cell_type": "code",
   "execution_count": null,
   "id": "2c089647",
   "metadata": {},
   "outputs": [],
   "source": [
    "# Function for closing window\n",
    "def close():\n",
    "    root.destroy()"
   ]
  },
  {
   "cell_type": "code",
   "execution_count": null,
   "id": "ef560d71",
   "metadata": {},
   "outputs": [],
   "source": [
    "# Function for clearing the canvas\n",
    "def clear():\n",
    "    c.delete(\"all\")"
   ]
  },
  {
   "cell_type": "code",
   "execution_count": null,
   "id": "04d15b31",
   "metadata": {},
   "outputs": [],
   "source": [
    "# Function for putting a point on the canvas\n",
    "def putPoint(e):\n",
    "    c.create_oval(e.x - bs, e.y - bs, e.x + bs, e.y + bs, outline='black', fill='black')\n",
    "    pre = [e.x, e.y]"
   ]
  },
  {
   "cell_type": "code",
   "execution_count": null,
   "id": "d0a802f0",
   "metadata": {},
   "outputs": [],
   "source": [
    "# Function for drawing on the canvas\n",
    "def paint(e):\n",
    "    c.create_line(pre[0], pre[1], e.x, e.y, width=bs * 2, fill='black', capstyle=ROUND, smooth=TRUE)\n",
    "    pre = [e.x, e.y]"
   ]
  },
  {
   "cell_type": "code",
   "execution_count": null,
   "id": "4b3bfa7d",
   "metadata": {},
   "outputs": [],
   "source": [
    "def solve():\n",
    "    print('Starting the work...')\n",
    "    success = get_image()\n",
    "    if success:\n",
    "        get_solve()"
   ]
  },
  {
   "cell_type": "code",
   "execution_count": null,
   "id": "5a014699",
   "metadata": {},
   "outputs": [],
   "source": [
    "# Function for getting the image from the canvas\n",
    "def get_image():\n",
    "    print('Processing image from the canvas...')\n",
    "    #\n",
    "    x, y = (c.winfo_rootx(), c.winfo_rooty())\n",
    "    width, height = (c.winfo_width(), c.winfo_height())\n",
    "    a, b, c, d = (x, y, x+width, y+height)\n",
    "    #\n",
    "    img = ImageGrab.grab()\n",
    "    img.save(\"full-screen.png\")\n",
    "    img = img.crop((a + 76, b + 48, c + 313, d + 154))\n",
    "    img.save(\"drawn-image.png\")\n",
    "    print('Image saved!')\n",
    "    return True"
   ]
  },
  {
   "cell_type": "code",
   "execution_count": null,
   "id": "adf6d514",
   "metadata": {},
   "outputs": [],
   "source": [
    "# Function for solving the prediction\n",
    "def get_solve():\n",
    "    print('Solving the equation...')\n",
    "    pass"
   ]
  },
  {
   "cell_type": "code",
   "execution_count": null,
   "id": "6d981890",
   "metadata": {},
   "outputs": [],
   "source": [
    "#Executing function\n"
   ]
  },
  {
   "cell_type": "code",
   "execution_count": null,
   "id": "e339d2fd",
   "metadata": {},
   "outputs": [],
   "source": []
  }
 ],
 "metadata": {
  "kernelspec": {
   "display_name": "Python 3 (ipykernel)",
   "language": "python",
   "name": "python3"
  },
  "language_info": {
   "codemirror_mode": {
    "name": "ipython",
    "version": 3
   },
   "file_extension": ".py",
   "mimetype": "text/x-python",
   "name": "python",
   "nbconvert_exporter": "python",
   "pygments_lexer": "ipython3",
   "version": "3.8.5"
  }
 },
 "nbformat": 4,
 "nbformat_minor": 5
}
